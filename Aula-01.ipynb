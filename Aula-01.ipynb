{
 "cells": [
  {
   "cell_type": "markdown",
   "id": "85824b36",
   "metadata": {},
   "source": [
    "# Aula 01: O problema da precisão numérica\n",
    "\n",
    "A representação de números fracionários por computadores digitais pode\n",
    "levar a problemas de precisão numérica. Sabemos que um número na base 10\n",
    "(decimal) é representado como:\n",
    "\n",
    "$$23457 = 2 \\times 10^4 + 3 \\times 10^3 + 4 \\times 10^2 + 5 \\times 10^1 + 7 \\times 10^0$$\n",
    "\n",
    "Analogamente, um número binário (base 2) pode ser representado como:\n",
    "\n",
    "$$110101 = 1 \\times 2^5 + 1 \\times 2^4 + 0 \\times 2^3 + 1 \\times 2^2 + 0 \\times 2^1 + 1 \\times 2^0 = 53$$\n",
    "\n",
    "- O bit mais a direita é o menos significativo e portanto o seu valor é $1\n",
    "x 2^0 = 1$\n",
    "- O segundo bit a partir da direita tem valor de $0 \\times 2^1 = 0$\n",
    "- O terceiro bit a partir da direita tem valor de $1 \\times 2^2 = 4$\n",
    "- O quarto bit a partir da direita tem valor de $0 \\times 2^3 = 0$\n",
    "- O quinto bit a partir da esquerda tem valor de $1 \\times 2^4 = 16$\n",
    "- Por fim, o bit mais a esquerda tem valor de $1 \\times 2^5 = 32$\n",
    "- Somando tudo temos: $1 + 4 + 16 + 32 = 5 + 48 = 53$.\n",
    "\n",
    "Essa é a regra para convertermos um número binário para sua notação decimal."
   ]
  },
  {
   "cell_type": "markdown",
   "id": "d1ffbb80",
   "metadata": {},
   "source": [
    "Veremos agora o processo inverso: como converter um número decimal para binário. O processo é simples. Começamos dividindo o número decimal por 2:\n",
    "\n",
    "- $53 / 2 = 26$ e sobra resto **1** → esse 1 será nosso bit mais a direita\n",
    "(menos significativo no binário)\n",
    "\n",
    "Continuamos o processo até que a divisão por 2 não seja mais possível:\n",
    "\n",
    "- $26 / 2 = 13$ e sobra resto **0** → esse 0 será nosso segundo bit mais a\n",
    "direita no binário\n",
    "- $13 / 2 = 6$ e sobra resto **1** → esse 1 será nosso terceiro bit mais a\n",
    "direita no binário\n",
    "- $6 / 2 = 3$ e sobra resto **0** → esse 0 será nosso quarto bit mais a\n",
    "direita no binário\n",
    "- $3 / 2 = 1$ e sobra resto **1** → esse 1 será nosso quinto bit mais a\n",
    "direita no binário\n",
    "- $1 / 2 = 0$ e sobra resto **1** → esse 1 será o nosso último bi (mais a\n",
    "esquerda)\n",
    "\n",
    "Note que de agora em diante não precisamos continuar com o processo pois\n",
    "\n",
    "- $0 / 2 = 0$ e sobra 0\n",
    "- $0 / 2 = 0$ e sobra 0\n",
    "\n",
    "ou seja a esquerda do sexto bit teremos apenas zeros, e como no sistema decimal, zeros a esquerda não possuem valor algum. Portanto, 53 em decimal equivale a 110101 em binário."
   ]
  },
  {
   "cell_type": "markdown",
   "id": "848d3402",
   "metadata": {},
   "source": [
    "Com números fracionários, a ideia é similar:\n",
    "\n",
    "Na base 10:\n",
    "\n",
    "$$456,78 = 4 \\times 10^2 + 5 \\times 10^1 + 6 \\times 10^0 + 7 \\times 10^-1 + 8 \\times 10^-2$$\n",
    "\n",
    "Na base 2:\n",
    "\n",
    "$$101,101 = 1 \\times 2^2 + 0 \\times 2^1 + 1 \\times 2^0 + 1 \\times 2^-1 + 0 \\times 2^-2 + 1 x\n",
    "2^-2 = 4 + 1 + 0.5 + 0.125 = 5,625$$"
   ]
  },
  {
   "cell_type": "markdown",
   "id": "4c8cdf61",
   "metadata": {},
   "source": [
    "Com números binários a ideia é a mesma. Mover a vírgula para a esquerda\n",
    "significa divisão por 2 e mover a vírgula para direita significa\n",
    "multiplicação por 2\n",
    "\n",
    "- $28 = 11100$\n",
    "- $14 = 1110$\n",
    "- $7 = 111$\n",
    "- $3,5 = 11,1$\n",
    "- $1,75 = 1,11$"
   ]
  },
  {
   "cell_type": "markdown",
   "id": "191fb371",
   "metadata": {},
   "source": [
    "Para armazenar números reais em computadores, é preciso representá-los\n",
    "na base 2 (binário)\n",
    "\n",
    "No caso de números inteiros, a conversão é direta\n",
    "\n",
    "$25 = 11001$ pois\n",
    "\n",
    "- $25 / 2$ resulta em 12 com resto 1\n",
    "- $12 / 2$ resulta em 6 com resto 0\n",
    "- $6 / 2$ resulta em 3 com resto 0\n",
    "- $3 / 2$ resulta em 1 com resto 1\n",
    "- $1 / 2$ resulta em 0 com resto 1\n"
   ]
  },
  {
   "cell_type": "markdown",
   "id": "9c6d5ea0",
   "metadata": {},
   "source": [
    "No caso de números reais, o processo é similar\n",
    "\n",
    "$$5,625$$\n",
    "\n",
    "Primeiramente, devemos dividir o número em 2 partes: parte inteira e\n",
    "parte fracionária\n",
    "\n",
    "A conversão é feita independentemente para cada parte. Assim, primeiro\n",
    "devemos converter o número 5\n",
    "\n",
    "- $5 / 2 = 2$ com resto 1\n",
    "- $2 / 2 = 1$ com resto 0\n",
    "- $1 / 2 = 1$ com resto 1\n",
    "\n",
    "Então, temos que $5 = 101$"
   ]
  },
  {
   "cell_type": "markdown",
   "id": "ddeec9c8",
   "metadata": {},
   "source": [
    "Em seguida iremos trabalhar com a parte fracionária: $0,625$. Nesse caso ao invés de dividir por 2, iremos multiplicar por 2 a parte fracionária e tomar a parte inteira do resultado (a esquerda da vírgula), repetindo o processo até que não se tenha mais casas decimais depois da vírgula.\n",
    "\n",
    "$0,625 \\times 2 = 1,25 → 1$ (primeira casa fracionária)\n",
    "\n",
    "$0,25 \\times 2 = 0,5 → 0$ (segunda casa)\n",
    "\n",
    "$0,5 \\times 2 = 1,0 → 1$ (terceira casa)\n",
    "\n",
    "Assim, temos que $0,625 = 0,101$ e portanto $5,625 = 101,101$"
   ]
  },
  {
   "cell_type": "markdown",
   "id": "1a6e0ba0",
   "metadata": {},
   "source": [
    "Porém, em alguns casos, alguns problemas podem surgir. Por exemplo, suponha que desejamos armazenar num computador o número $0,8$ na base $10$. Para isso, devemos proceder da forma descrita anteriormente.\n",
    "\n",
    "- $0,8 \\times 2 = 1,6 → 1$\n",
    "- $0,6 \\times 2 = 1,2 → 1$\n",
    "- $0,2 \\times 2 = 0,4 → 0$\n",
    "- $0,4 \\times 2 = 0,8 → 0$\n",
    "- $0,8 \\times 2 = 1,6 → 1$\n",
    "- $0,6 \\times 2 = 1,2 → 1$ Portanto, $0,8 = 0,110011001100110011001100....$\n",
    "- $0,2 \\times 2 = 0,4 → 0$\n",
    "- $0,4 \\times 2 = 0,8 → 0$\n",
    "- $0,8 \\times 2 = 1,6 → 1$\n",
    "- $0,6 \\times 2 = 1,2 → 1$\n",
    "- $0,2 \\times 2 = 0,4 → 0$\n",
    "- $0,4 \\times 2 = 0,8 → 0$\n",
    "- $...$\n",
    "\n",
    "Infinitas casas decimais. Porém, como na prática temos um número finito\n",
    "de bits, deve-se truncar o número para uma quantidade finita. Isso\n",
    "implica numa aproximação. Por exemplo, qual é o erro cometido ao se\n",
    "representar $0,8$ como $0,11001100$?"
   ]
  },
  {
   "cell_type": "markdown",
   "id": "4c440feb",
   "metadata": {},
   "source": [
    "$\\frac{1}{2} + \\frac{1}{4} + \\frac{1}{32} + \\frac{1}{64} = \\frac{51}{64} = 0.796875$, o que implica num erro de\n",
    "$0,003125$."
   ]
  },
  {
   "cell_type": "markdown",
   "id": "ca2103ee",
   "metadata": {},
   "source": [
    "O problema pode ser amplificado ao se realizar operações matemáticas com\n",
    "esse valor (é como se o erro fosse sendo propagado nos cálculos).\n",
    "Existem outros valores para que isso ocorre: $0,2$, $0,4$, $0,6$\n",
    "\n",
    "Ex: Forneça as representações computacionais na base 2 (binário) para os\n",
    "seguintes números. Quais são os erros cometidos se considerarmos apenas\n",
    "8 bits para a parte fracionária?\n",
    "\n",
    "a\\) 11,6\n",
    "\n",
    "b\\) 27,4\n",
    "\n",
    "c\\) 53,6\n",
    "\n",
    "d\\) 31,2"
   ]
  },
  {
   "cell_type": "markdown",
   "id": "111a3a9c",
   "metadata": {},
   "source": [
    "\"*The real voyage of discovery consists not in seeking new landscapes,\n",
    "but in having new eyes.*\"\n",
    "\n",
    "(Marcel Proust)"
   ]
  }
 ],
 "metadata": {
  "kernelspec": {
   "display_name": "Julia 1.6.1",
   "language": "julia",
   "name": "julia-1.6"
  },
  "language_info": {
   "file_extension": ".jl",
   "mimetype": "application/julia",
   "name": "julia",
   "version": "1.6.1"
  },
  "toc": {
   "base_numbering": 1,
   "nav_menu": {},
   "number_sections": true,
   "sideBar": true,
   "skip_h1_title": false,
   "title_cell": "Table of Contents",
   "title_sidebar": "Contents",
   "toc_cell": false,
   "toc_position": {},
   "toc_section_display": true,
   "toc_window_display": true
  }
 },
 "nbformat": 4,
 "nbformat_minor": 5
}
